{
 "cells": [
  {
   "cell_type": "code",
   "execution_count": 1,
   "metadata": {},
   "outputs": [],
   "source": [
    "text=[\"London Paris London\",\"Paris Paris London\"]\n",
    "#Now we need to find a way to represent these texts as vectors. The CountVectorizer() class from \n",
    "#sklearn.feature_extraction.text librarycan do this for us. We need to import this library before we can create a new\n",
    "#CountVectorizer() object"
   ]
  },
  {
   "cell_type": "code",
   "execution_count": 2,
   "metadata": {},
   "outputs": [],
   "source": [
    "from sklearn.feature_extraction.text import CountVectorizer\n",
    "cv= CountVectorizer()\n",
    "count_matrix = cv.fit_transform(text)\n",
    "#count_matrix gives us a sparse matrix . To make it in human readable form , we need to apply  toarray() method over it.\n",
    "#And before printing out this count_matrix, let us first print out the feature list(or,word list), which have been fed to our \n",
    "#CountVectorizer() object"
   ]
  },
  {
   "cell_type": "code",
   "execution_count": 3,
   "metadata": {},
   "outputs": [
    {
     "name": "stdout",
     "output_type": "stream",
     "text": [
      "['london', 'paris']\n",
      "[[2 1]\n",
      " [1 2]]\n"
     ]
    }
   ],
   "source": [
    "print(cv.get_feature_names())\n",
    "print(count_matrix.toarray())\n",
    "#This indicates that the word 'london' occurs 2 times in A and 1 time in B.Similarly,the word 'paris' occurs 1 time in A and 2 times in B .Makes sense. right?\n",
    "#now,we need to find cosine(or \"cos\")similarly between these vectors to find out how similar they are from each other . We can calculate this using cosine_similarity() function from sklearn.metrics.pairwise library"
   ]
  },
  {
   "cell_type": "code",
   "execution_count": 4,
   "metadata": {},
   "outputs": [
    {
     "name": "stdout",
     "output_type": "stream",
     "text": [
      "[[1.  0.8]\n",
      " [0.8 1. ]]\n"
     ]
    }
   ],
   "source": [
    "from sklearn.metrics.pairwise import cosine_similarity\n",
    "similarity_scores = cosine_similarity(count_matrix)\n",
    "print(similarity_scores)"
   ]
  },
  {
   "cell_type": "code",
   "execution_count": 5,
   "metadata": {},
   "outputs": [],
   "source": [
    "import pandas as pd \n",
    "import numpy as np\n",
    "from sklearn.feature_extraction.text import CountVectorizer\n",
    "from sklearn.metrics.pairwise import cosine_similarity\n",
    "\n",
    "df=pd.read_csv(\"C:\\\\Users\\\\happy\\\\Winter Training\\\\movie_dataset.csv\")\n",
    "\n",
    "#If you visualize the dataset, you will see that it has many extra info about a movie .we don't need all of them. So, we choose keywords,cast,genres and director column to use as our feature set(the so called \"content\" of the movie)."
   ]
  },
  {
   "cell_type": "code",
   "execution_count": 6,
   "metadata": {},
   "outputs": [],
   "source": [
    "features=['keywords','cast','genres','director']\n",
    "#our next task is to create a function for combining the values of these columns into a single string\n"
   ]
  },
  {
   "cell_type": "code",
   "execution_count": 7,
   "metadata": {},
   "outputs": [],
   "source": [
    "def combine_features(row):\n",
    "    return row['keywords']+\" \"+row['cast']+\" \"+row['genres']+\" \"+row['director']\n",
    "#Now, we need to call this function over each row of our dataframe. But, before doing that , we need to clean and preprocess the \n",
    "#data for our use . We will fill all the NaN values with blank string in the dataframe."
   ]
  },
  {
   "cell_type": "code",
   "execution_count": 8,
   "metadata": {},
   "outputs": [],
   "source": [
    "for feature in features:\n",
    "    df[feature]=df[feature].fillna('')# filling all NaNs with blank string.\n",
    "df[\"combined_features\"] = df.apply(combine_features,axis=1)#applying combined features() method over each rows of dataframe and storing the combined string in\"combined_features\" columns"
   ]
  },
  {
   "cell_type": "code",
   "execution_count": 9,
   "metadata": {},
   "outputs": [
    {
     "data": {
      "text/plain": [
       "'culture clash future space war space colony society Sam Worthington Zoe Saldana Sigourney Weaver Stephen Lang Michelle Rodriguez Action Adventure Fantasy Science Fiction James Cameron'"
      ]
     },
     "execution_count": 9,
     "metadata": {},
     "output_type": "execute_result"
    }
   ],
   "source": [
    "df.iloc[0].combined_features"
   ]
  },
  {
   "cell_type": "code",
   "execution_count": 10,
   "metadata": {},
   "outputs": [],
   "source": [
    "#Now that we obtained the combined strings, we can now feed these strings to a CountVectorizer() \n",
    "#object for getting the count matrix."
   ]
  },
  {
   "cell_type": "code",
   "execution_count": 11,
   "metadata": {},
   "outputs": [],
   "source": [
    "cv= CountVectorizer() #Creating new CountVectorizer() object\n",
    "count_matrix= cv.fit_transform(df[\"combined_features\"]) #feeding combined strings(movie contents) to Count_Vectorizer() object"
   ]
  },
  {
   "cell_type": "code",
   "execution_count": 12,
   "metadata": {},
   "outputs": [],
   "source": [
    "#At this point , 60% work is done . Now, we need to obtain the cosine similarity matrix from the count matrix."
   ]
  },
  {
   "cell_type": "code",
   "execution_count": 13,
   "metadata": {},
   "outputs": [],
   "source": [
    "cosine_sim = cosine_similarity(count_matrix)"
   ]
  },
  {
   "cell_type": "code",
   "execution_count": 14,
   "metadata": {},
   "outputs": [],
   "source": [
    "#Now we will define two helper functions to get movie title from  movie index and vice-versa"
   ]
  },
  {
   "cell_type": "code",
   "execution_count": 15,
   "metadata": {},
   "outputs": [],
   "source": [
    "def get_title_from_index(index):\n",
    "    return df[df.index == index][\"title\"].values[0]\n",
    "def get_index_from_title(title):\n",
    "    return df[df.title == title][\"index\"].values[0]"
   ]
  },
  {
   "cell_type": "code",
   "execution_count": 16,
   "metadata": {},
   "outputs": [],
   "source": [
    "#our next step is to get the title of the movie that user currently likes .Then we wwill find the index of that  movie after that we will\n",
    "#access the row corresponding to this similarity matrix.Thus we will get the similarity scores of all other movies from the current movies\n",
    "#then we will enumerate through all the similarity scores of that movie to make a tuple of movie index and similarity score.This will convert a row similarity\n",
    "#scores like this - [1 0.5 0.2 0.9] to this - [(0,1)(1,0.5)(2,0.2)(3,0.9)]. Here each item is in this form-(movie index,similarity score)"
   ]
  },
  {
   "cell_type": "code",
   "execution_count": 17,
   "metadata": {},
   "outputs": [],
   "source": [
    "movie_user_likes=\"X-Men: First Class\"\n",
    "movie_index = get_index_from_title(movie_user_likes)\n",
    "similar_movies = list(enumerate(cosine_sim[movie_index]))# accessing the row corresponding to given "
   ]
  },
  {
   "cell_type": "code",
   "execution_count": 18,
   "metadata": {},
   "outputs": [],
   "source": [
    "#Now comes the most vital point . we will sport the list similar_movies according to similarity scores in descending order.\n",
    "#since the most similar movie is to a given movie will be itselfm we will discard the first element after sorting the movies."
   ]
  },
  {
   "cell_type": "code",
   "execution_count": 19,
   "metadata": {},
   "outputs": [],
   "source": [
    "sorted_similar_movies = sorted(similar_movies,key=lambda x:x[1],reverse=True)[1:]"
   ]
  },
  {
   "cell_type": "code",
   "execution_count": 20,
   "metadata": {},
   "outputs": [],
   "source": [
    "#Now, we will run a loop to print first 5 entries from sorted_similar_movies list"
   ]
  },
  {
   "cell_type": "code",
   "execution_count": 21,
   "metadata": {},
   "outputs": [
    {
     "name": "stdout",
     "output_type": "stream",
     "text": [
      "top 5 similar movies to X-Men: First Classare:\n",
      "\n",
      "X-Men: Days of Future Past\n",
      "X-Men: Apocalypse\n",
      "Ant-Man\n",
      "X-Men\n",
      "X2\n",
      "The Wolverine\n",
      "Man of Steel\n",
      "X-Men: The Last Stand\n",
      "Iron Man 2\n",
      "The Helix... Loaded\n",
      "Captain America: The Winter Soldier\n",
      "Fantastic Four\n",
      "Avengers: Age of Ultron\n",
      "X-Men Origins: Wolverine\n",
      "The Avengers\n",
      "Superman Returns\n",
      "Iron Man\n",
      "Guardians of the Galaxy\n",
      "The Hunger Games: Catching Fire\n",
      "The Incredible Hulk\n",
      "The Hunger Games: Mockingjay - Part 2\n"
     ]
    }
   ],
   "source": [
    "i=0\n",
    "print(\"top 5 similar movies to \"+movie_user_likes+\"are:\\n\")\n",
    "for element in sorted_similar_movies:\n",
    "    print(get_title_from_index(element[0]))\n",
    "    i=i+1\n",
    "    if i>20:\n",
    "        break"
   ]
  },
  {
   "cell_type": "code",
   "execution_count": null,
   "metadata": {},
   "outputs": [],
   "source": []
  }
 ],
 "metadata": {
  "kernelspec": {
   "display_name": "Python 3",
   "language": "python",
   "name": "python3"
  },
  "language_info": {
   "codemirror_mode": {
    "name": "ipython",
    "version": 3
   },
   "file_extension": ".py",
   "mimetype": "text/x-python",
   "name": "python",
   "nbconvert_exporter": "python",
   "pygments_lexer": "ipython3",
   "version": "3.7.1"
  }
 },
 "nbformat": 4,
 "nbformat_minor": 2
}
